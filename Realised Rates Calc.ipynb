{
 "cells": [
  {
   "cell_type": "code",
   "execution_count": 1,
   "metadata": {},
   "outputs": [],
   "source": [
    "from IPython.display import display, HTML\n",
    "import refinitiv.dataplatform as rdp\n",
    "import configparser as cp\n",
    "import json\n",
    "import pandas as pd\n",
    "import ipywidgets as widgets\n",
    "from ipywidgets import Layout\n",
    "from datetime import datetime, timedelta\n",
    "\n",
    "\n",
    "config = cp.ConfigParser()\n",
    "config.read(\"c:/Refinitiv/config.cfg\")\n",
    "#session = rdp.DesktopSession(app_key=config['session']['app_key'])\n",
    "session = rdp.PlatformSession(\n",
    "    config['session']['app_key'],\n",
    "    rdp.GrantPassword( username=config['session']['user'], password=config['session']['password'] )\n",
    ")\n",
    "session.open()\n",
    "\n",
    "endpoint = rdp.Endpoint(session, 'https://api.refinitiv.com/data/quantitative-analytics/v1/financial-contracts')\n"
   ]
  },
  {
   "cell_type": "markdown",
   "metadata": {},
   "source": [
    "#### Define a Swap request to provide an Accrued Percentage value replicating the NatWest Reference Rate\n",
    "Input values\n",
    "* Start date of the IR Swap matching the start date of the realized rate period  \n",
    "* Maturity date of the IR Swap matching the end date of the realized rate period  \n",
    "* Amount used to compute the interest paid over the realized rate period\n",
    "* Currency of the amount  \n",
    "* Spread in Basis point that is added to the realized rate  \n",
    "* Day count basis used to compute each daily year fraction  \n",
    "* Name of the reference index used to compute the realized rate (e.g. SONIA, SOFR)  \n",
    "* Look back period i.e. number of days between the daily interest period and the reference index publication"
   ]
  },
  {
   "cell_type": "code",
   "execution_count": 2,
   "metadata": {},
   "outputs": [],
   "source": [
    "import dateutil.parser\n",
    "from datetime import date\n",
    "\n",
    "def create_swap(start_date, end_date, amount, spread_bp, day_count, currency, index_name, look_back):\n",
    "    \n",
    "    swap_definition = {\n",
    "        \"instrumentType\":\"Swap\", \n",
    "        \"instrumentDefinition\": {\n",
    "            \"instrumentTag\":\"Compounding-Rate\",\n",
    "            #\"template\": \"OIS_SONIA\",\n",
    "            \"startDate\":start_date,\n",
    "            \"tenor\":\"1Y\",\n",
    "            \"legs\":[\n",
    "            {\n",
    "                \"legTag\": \"Fixed\",\n",
    "                \"interestType\": \"Fixed\",\n",
    "                \"notionalCcy\": currency,\n",
    "                \"notionalAmount\": amount,\n",
    "                \"interestCalculationMethod\": day_count,\n",
    "                \"direction\":\"Paid\",\n",
    "                \"interestType\":\"Fixed\",\n",
    "                \"interestPaymentFrequency\": \"Zero\",\n",
    "                \"fixedRatePercent\":1.0,\n",
    "            },\n",
    "            {\n",
    "                \"legTag\": \"Float\",\n",
    "                \"direction\":\"Received\",\n",
    "                \"interestType\":\"Float\",\n",
    "                \"notionalCcy\": currency,\n",
    "                \"notionalAmount\": amount,\n",
    "                \"spreadBp\": spread_bp,\n",
    "                \"interestPaymentFrequency\": \"Zero\",\n",
    "                \"interestCalculationMethod\": day_count,\n",
    "                #\"indexFixingRIC\": index_name,\n",
    "                \"indexTenor\": \"ON\",\n",
    "                \"indexName\": index_name,\n",
    "                \"indexFixingLag\": look_back,\n",
    "                \"indexCompoundingMethod\": \"Compounded\",\n",
    "            }]\n",
    "        },\n",
    "        \n",
    "        \"pricingParameters\": {\n",
    "            \"valuationDate\": end_date,\n",
    "        },\n",
    "    }\n",
    "    \n",
    "    return swap_definition\n"
   ]
  },
  {
   "cell_type": "markdown",
   "metadata": {},
   "source": [
    "#### Define the IR Swap using the above function & submit to the Financial Contract API endpoint\n",
    "And then display the response as a user friendly dataframe"
   ]
  },
  {
   "cell_type": "code",
   "execution_count": 3,
   "metadata": {},
   "outputs": [],
   "source": [
    "def swap_accrued_percent(start_date, end_date, amount, spread_bp, day_count, currency, index_name, look_back):\n",
    "    request_body = {\n",
    "\n",
    "        \"fields\" : [\"InstrumentTag\",\"LegTag\",\"MarketValueInDealCcy\",\"AccruedPercent\", \"AccruedAmountInDealCcy\",\\\n",
    "                    \"ErrorCode\",\"ErrorMessage\"],\n",
    "\n",
    "        \"universe\" : [\n",
    "            create_swap(start_date, end_date, amount, spread_bp, day_count, currency, index_name, look_back)\n",
    "        ],\n",
    "\n",
    "        \"outputs\" : [\"Data\",\"Headers\"],\n",
    "\n",
    "    }\n",
    "\n",
    "    swap = endpoint.send_request(\n",
    "        method = rdp.Endpoint.RequestMethod.POST,\n",
    "        body_parameters = request_body)\n",
    "\n",
    "    print(\"IR Swap RESPONSE:\")\n",
    "    ## print(json.dumps(swap.data.raw, indent=2))\n",
    "    \n",
    "    headers_name = [h['name'] for h in swap.data.raw['headers']]\n",
    "    df = pd.DataFrame(data=swap.data.raw['data'], columns=headers_name)\n",
    "    display(df)\n",
    "    \n",
    "    # Floating rate Accrued Percentage\n",
    "    return df['AccruedPercent'][1]\n"
   ]
  },
  {
   "cell_type": "markdown",
   "metadata": {},
   "source": [
    "#### Function to compute the year fraction of the realized rate period.\n",
    "- Start date & End Date matching the IR Swap definition\n",
    "- Day Count Basis as per the IR Swap\n",
    "- Period Type set to Year to get the year fraction of the period\n",
    "- For Calendars I am just re-using the currency input of the IR Swap\n",
    "\n",
    "Submit the Request to the relevant Quantitative Analytics endpoint & then display the response in a reader friendly format\n"
   ]
  },
  {
   "cell_type": "code",
   "execution_count": 4,
   "metadata": {},
   "outputs": [],
   "source": [
    "def rate_period(start_date, end_date, day_count_basis, period_type, calendars):\n",
    "    \n",
    "    cp_endpoint = rdp.Endpoint(session, \"https://api.refinitiv.com/data/quantitative-analytics-dates-and-calendars/beta1/count-periods\")\n",
    "\n",
    "    cp_request_body=[\n",
    "        {\n",
    "        \"tag\": \"my request 1\",\n",
    "        \"startDate\": start_date,\n",
    "        \"endDate\": end_date,\n",
    "        \"DayCountBasis\":day_count_basis,\n",
    "        \"periodType\": period_type,\n",
    "        \"calendars\": [calendars]\n",
    "        }\n",
    "    ]\n",
    "\n",
    "\n",
    "    period_of_time = cp_endpoint.send_request(\n",
    "        method = rdp.Endpoint.RequestMethod.POST,\n",
    "        body_parameters = cp_request_body)\n",
    "\n",
    "    print(\"\\nCount Periods RESPONSE:\")\n",
    "    #print(json.dumps(period_of_time.data.raw, indent=2))\n",
    "    \n",
    "    df = pd.json_normalize(period_of_time.data.raw)\n",
    "    display(df)\n",
    "    \n",
    "    return period_of_time.data.raw[0]['count']\n",
    "\n"
   ]
  },
  {
   "cell_type": "markdown",
   "metadata": {},
   "source": [
    "#### Finally the Swap Accrued is divided by the Period Year Fraction to give us the Annualized RFR for the period considered."
   ]
  },
  {
   "cell_type": "code",
   "execution_count": 5,
   "metadata": {},
   "outputs": [],
   "source": [
    "def calc_realized_rate(start_date, end_date, amount, spread_bp, day_count, currency, index_name, look_back, dcb, period_type):\n",
    "    \n",
    "    accrued_percent = swap_accrued_percent(start_date, end_date, amount, spread_bp, day_count, currency, index_name, look_back)\n",
    "    period_of_time = rate_period(start_date, end_date, dcb,period_type, currency)\n",
    "    \n",
    "    return round(accrued_percent / period_of_time,4)\n",
    "    "
   ]
  },
  {
   "cell_type": "markdown",
   "metadata": {},
   "source": [
    "#### Read in our yser supplied values from the UI, calculate the rate and then update the UI"
   ]
  },
  {
   "cell_type": "code",
   "execution_count": 6,
   "metadata": {},
   "outputs": [],
   "source": [
    "def calculate_rr(value):\n",
    "    \n",
    "    rrf_rate_output.value = '...'\n",
    "    \n",
    "    indices = {\n",
    "        'GBP' : 'SONIA',\n",
    "        'EUR' : 'ESTER',\n",
    "        'USD' : 'SOFR'\n",
    "        }\n",
    "\n",
    "    start_date = start_date_picker.value.strftime('%Y-%m-%d')\n",
    "    end_date = end_date_picker.value.strftime('%Y-%m-%d')\n",
    "    amount = float(amount_input.value)\n",
    "    spread_bp = float(spb_input.value)*100\n",
    "    day_count = day_cnt_dd.value\n",
    "    currency = ccy_dd.value\n",
    "    look_back = lags_dd.value.split('d')[0]\n",
    "    index_name = indices[currency]\n",
    "    \n",
    "    realized_rf_rate = calc_realized_rate(start_date, end_date, amount, spread_bp, day_count, currency, index_name, look_back, 'A5', 'Year')\n",
    "\n",
    "    rrf_rate_output.value = str(realized_rf_rate)\n",
    "    \n",
    "    return"
   ]
  },
  {
   "cell_type": "markdown",
   "metadata": {},
   "source": [
    "#### The ipywidgets UI setup code\n",
    "Define the  \n",
    "* Calculate Button\n",
    "* Start date + Maturity date pickers, \n",
    "* Currency, DCB + lookback dropdowns \n",
    "* Amount and SPBinput fields \n",
    "* Realised RFR output field"
   ]
  },
  {
   "cell_type": "code",
   "execution_count": 7,
   "metadata": {},
   "outputs": [
    {
     "data": {
      "application/vnd.jupyter.widget-view+json": {
       "model_id": "b8bec9c220d64be08c2910e88eb8f484",
       "version_major": 2,
       "version_minor": 0
      },
      "text/plain": [
       "VBox(children=(Accordion(children=(VBox(children=(HBox(children=(DatePicker(value=datetime.datetime(2020, 2, 2…"
      ]
     },
     "metadata": {},
     "output_type": "display_data"
    }
   ],
   "source": [
    "calculate_btn = widgets.Button(description='Calculate', layout={'width':'90px','height':'40px'})\n",
    "calculate_btn.on_click(calculate_rr)\n",
    "\n",
    "startdate = datetime.strptime('2020-02-24', '%Y-%m-%d')\n",
    "start_date_picker = widgets.DatePicker(description='Start date:', value = startdate,\n",
    "                                       continuous_update=False, layout={'width':'230px'})\n",
    "enddate = datetime.strptime('2020-03-24', '%Y-%m-%d')\n",
    "end_date_picker = widgets.DatePicker(description='End date:', value = enddate,\n",
    "                                     continuous_update=False, layout={'width':'230px'})\n",
    "amount_input = widgets.FloatText(description='Amount £:', value=10000.0, \n",
    "                                   continuous_update=False, layout={'width':'150px'})\n",
    "spb_input = widgets.FloatText(description='SPB %:', value=0.0, \n",
    "                                 continuous_update=False, layout={'width':'130px'})\n",
    "currencies=['GBP','EUR','USD']\n",
    "ccy_dd = widgets.Dropdown(description='Currency:', options=currencies, value='GBP', \n",
    "                                 continuous_update=False, layout={'width':'150px'})\n",
    "day_cnts=['Dcb_Actual_365','Dcb_Actual_360','Dcb_30_360_US']\n",
    "day_cnt_dd = widgets.Dropdown(description='Day Count:', options=day_cnts, value='Dcb_Actual_365', \n",
    "                                 continuous_update=False, layout={'width':'220px'})\n",
    "\n",
    "lags = [str(i)+'d' for i in range(15)]\n",
    "lags_dd = widgets.Dropdown(description='Lookback:', options=lags, value='0d', \n",
    "                                 continuous_update=False, layout={'width':'140px'})\n",
    "\n",
    "style = {'description_width': 'initial'}\n",
    "rrf_rate_output = widgets.Text(value='...',description='Realized RFR %: ', \n",
    "                            disabled=True, layout={'width':'160px', 'height':'50px'}, style=style )\n",
    "\n",
    "\n",
    "inputs_ui_top = widgets.HBox([\n",
    "    start_date_picker, end_date_picker, \n",
    "    amount_input, spb_input], \n",
    "    layout={'height':'50px'})\n",
    "\n",
    "inputs_ui_lower = widgets.HBox([\n",
    "    ccy_dd, day_cnt_dd,\n",
    "    lags_dd], \n",
    "    layout={'height':'50px'})\n",
    "\n",
    "\n",
    "outputs_ui = widgets.HBox([calculate_btn,rrf_rate_output],layout={'height':'70px'})\n",
    "\n",
    "rates_ui = widgets.VBox([inputs_ui_top, inputs_ui_lower, outputs_ui])\n",
    "\n",
    "accordion = widgets.Accordion(children=[rates_ui], layout={'width':'1000px','height':'330px'})\n",
    "accordion.set_title(0, 'RATE CALCULATOR')\n",
    "\n",
    "realised_rfr_calc = widgets.VBox([accordion])\n",
    "realised_rfr_calc\n"
   ]
  },
  {
   "cell_type": "markdown",
   "metadata": {},
   "source": [
    "#### Display the reponse data we get back from the API requests"
   ]
  },
  {
   "cell_type": "code",
   "execution_count": 8,
   "metadata": {},
   "outputs": [],
   "source": [
    "#calculate_rr('')"
   ]
  },
  {
   "cell_type": "code",
   "execution_count": null,
   "metadata": {},
   "outputs": [],
   "source": []
  }
 ],
 "metadata": {
  "kernelspec": {
   "display_name": "Python 3",
   "language": "python",
   "name": "python3"
  },
  "language_info": {
   "codemirror_mode": {
    "name": "ipython",
    "version": 3
   },
   "file_extension": ".py",
   "mimetype": "text/x-python",
   "name": "python",
   "nbconvert_exporter": "python",
   "pygments_lexer": "ipython3",
   "version": "3.7.6"
  }
 },
 "nbformat": 4,
 "nbformat_minor": 4
}
